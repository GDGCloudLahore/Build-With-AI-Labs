{
  "nbformat": 4,
  "nbformat_minor": 0,
  "metadata": {
    "colab": {
      "provenance": [],
      "toc_visible": true
    },
    "kernelspec": {
      "name": "python3",
      "display_name": "Python 3"
    },
    "language_info": {
      "name": "python"
    }
  },
  "cells": [
    {
      "cell_type": "code",
      "execution_count": null,
      "metadata": {
        "id": "02ZQ-0GULnFy"
      },
      "outputs": [],
      "source": [
        "from dotenv import load_dotenv\n",
        "import os\n",
        "import streamlit as st\n",
        "import google.generativeai as genai\n",
        "\n",
        "# Load environment variables from .env file\n",
        "load_dotenv()\n",
        "\n",
        "# Configure Google API key\n",
        "genai.configure(api_key=os.getenv(\"GOOGLE_API_KEY\"))\n",
        "\n",
        "\n",
        "def get_gemini_response(question):\n",
        "    # Load Gemini model and generate response\n",
        "    model = genai.GenerativeModel('gemini-pro')\n",
        "    response = model.generate_content(question)\n",
        "    return response.text\n",
        "\n",
        "\n",
        "def display_response(text):\n",
        "    # Display response in a subheader\n",
        "    st.subheader(\"The Response is\")\n",
        "    st.write(to_markdown(text))\n",
        "\n",
        "def main():\n",
        "    # Set page title and header\n",
        "    st.set_page_config(page_title=\"Q&A Demo\")\n",
        "    st.header(\"Gemini Application\")\n",
        "\n",
        "    # User input\n",
        "    input_text = st.text_input(\"Input:\", key=\"input\")\n",
        "\n",
        "    # Button to generate a response\n",
        "    submit_button = st.button(\"Generate\")\n",
        "\n",
        "    if submit_button:\n",
        "        # Get a response and display\n",
        "        response = get_gemini_response(input_text)\n",
        "        display_response(response)\n",
        "\n",
        "\n",
        "if __name__ == \"__main__\":\n",
        "    # Run the main function\n",
        "    main()\n"
      ]
    }
  ]
}